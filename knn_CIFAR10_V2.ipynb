{
  "cells": [
    {
      "cell_type": "markdown",
      "metadata": {
        "id": "view-in-github",
        "colab_type": "text"
      },
      "source": [
        "<a href=\"https://colab.research.google.com/github/mohkharma/kNN_CiFAR10dataset/blob/master/knn_CIFAR10_V2.ipynb\" target=\"_parent\"><img src=\"https://colab.research.google.com/assets/colab-badge.svg\" alt=\"Open In Colab\"/></a>"
      ]
    },
    {
      "cell_type": "code",
      "execution_count": 1,
      "metadata": {
        "id": "O10TAy5kZVQO"
      },
      "outputs": [],
      "source": [
        "import numpy as np\n",
        "import matplotlib.pyplot as plt\n",
        "\n",
        "import pickle\n",
        "import numpy as np\n",
        "import os\n",
        "import platform\n",
        "\n",
        "\n",
        "%matplotlib inline\n",
        "\n"
      ]
    },
    {
      "cell_type": "code",
      "source": [
        "\n",
        "# coding: utf-8\n",
        "\n",
        "# In[ ]:\n",
        "\n",
        "\n",
        "import pickle\n",
        "import numpy as np\n",
        "import os\n",
        "import platform\n",
        "\n",
        "\n",
        "def load_pickle(f):\n",
        "    version = platform.python_version_tuple()\n",
        "    if version[0] == '2':\n",
        "        return  pickle.load(f)\n",
        "    elif version[0] == '3':\n",
        "        return  pickle.load(f, encoding='latin1')\n",
        "    raise ValueError(\"invalid python version: {}\".format(version))\n",
        "\n",
        "def load_CIFAR_batch(filename):\n",
        "  \"\"\" load single batch of cifar \"\"\"\n",
        "  with open(filename, 'rb') as f:\n",
        "    datadict = load_pickle(f)\n",
        "    X = datadict['data']\n",
        "    Y = datadict['labels']\n",
        "    X = X.reshape(10000, 3, 32, 32).transpose(0,2,3,1).astype(\"float\")\n",
        "    Y = np.array(Y)\n",
        "    return X, Y\n",
        "\n",
        "def load_CIFAR10(ROOT):\n",
        "  \"\"\" load all of cifar \"\"\"\n",
        "  xs = []\n",
        "  ys = []\n",
        "  for b in range(1,6):\n",
        "    f = os.path.join(ROOT, 'data_batch_%d' % (b, ))\n",
        "    X, Y = load_CIFAR_batch(f)\n",
        "    xs.append(X)\n",
        "    ys.append(Y)    \n",
        "  Xtr = np.concatenate(xs)\n",
        "  Ytr = np.concatenate(ys)\n",
        "  del X, Y\n",
        "  Xte, Yte = load_CIFAR_batch(os.path.join(ROOT, 'test_batch'))\n",
        "  return Xtr, Ytr, Xte, Yte\n"
      ],
      "metadata": {
        "id": "kCJM9dNQZuS0"
      },
      "execution_count": 2,
      "outputs": []
    },
    {
      "cell_type": "code",
      "execution_count": 3,
      "metadata": {
        "id": "6E-RYriDZVQT"
      },
      "outputs": [],
      "source": [
        "class KNearestNeighbor(object):\n",
        "    def __init__(self):\n",
        "        pass\n",
        "    def train(self, X, y):\n",
        "        self.X_train = X\n",
        "        self.y_train = y\n",
        "    def predict(self, X, k=1, num_loops=0):\n",
        "        if num_loops == 0:\n",
        "            dists = self.compute_distances(X)\n",
        "        else:\n",
        "            raise ValueError('Invalid value %d for num_loops' % num_loops)\n",
        "        return self.predict_labels(dists, k=k)\n",
        "\n",
        "\n",
        "    def compute_distances(self, X):\n",
        "        num_test = X.shape[0]\n",
        "        num_train = self.X_train.shape[0]\n",
        "        dists = np.zeros((num_test, num_train)) \n",
        "        dists = np.sqrt(np.sum(np.square(self.X_train), axis=1) + np.sum(np.square(X), axis=1)[:, np.newaxis] - 2 * np.dot(X, self.X_train.T))\n",
        "        pass\n",
        "        return dists\n",
        "\n",
        "    def predict_labels(self, dists, k=1):\n",
        "        num_test = dists.shape[0]\n",
        "        y_pred = np.zeros(num_test)\n",
        "        for i in range(num_test):\n",
        "            closest_y = []\n",
        "            sorted_dist = np.argsort(dists[i])\n",
        "            closest_y = list(self.y_train[sorted_dist[0:k]])\n",
        "            pass\n",
        "            y_pred[i]= (np.argmax(np.bincount(closest_y)))\n",
        "            pass\n",
        "        return y_pred\n",
        "\n"
      ]
    },
    {
      "cell_type": "code",
      "source": [
        "########################################################################\n",
        "#\n",
        "# Functions for downloading and extracting data-files from the internet.\n",
        "#\n",
        "# Implemented in Python 3.5\n",
        "#\n",
        "########################################################################\n",
        "#\n",
        "# This file is part of the TensorFlow Tutorials available at:\n",
        "#\n",
        "# https://github.com/Hvass-Labs/TensorFlow-Tutorials\n",
        "#\n",
        "# Published under the MIT License. See the file LICENSE for details.\n",
        "#\n",
        "# Copyright 2016 by Magnus Erik Hvass Pedersen\n",
        "#\n",
        "########################################################################\n",
        "\n",
        "import sys\n",
        "import os\n",
        "import urllib.request\n",
        "import tarfile\n",
        "import zipfile\n",
        "\n",
        "########################################################################\n",
        "\n",
        "\n",
        "def _print_download_progress(count, block_size, total_size):\n",
        "    \"\"\"\n",
        "    Function used for printing the download progress.\n",
        "    Used as a call-back function in maybe_download_and_extract().\n",
        "    \"\"\"\n",
        "\n",
        "    # Percentage completion.\n",
        "    pct_complete = float(count * block_size) / total_size\n",
        "\n",
        "    # Status-message. Note the \\r which means the line should overwrite itself.\n",
        "    msg = \"\\r- Download progress: {0:.1%}\".format(pct_complete)\n",
        "\n",
        "    # Print it.\n",
        "    sys.stdout.write(msg)\n",
        "    sys.stdout.flush()\n",
        "\n",
        "\n",
        "########################################################################\n",
        "\n",
        "\n",
        "def maybe_download_and_extract(url, download_dir):\n",
        "    \"\"\"\n",
        "    Download and extract the data if it doesn't already exist.\n",
        "    Assumes the url is a tar-ball file.\n",
        "\n",
        "    :param url:\n",
        "        Internet URL for the tar-file to download.\n",
        "        Example: \"https://www.cs.toronto.edu/~kriz/cifar-10-python.tar.gz\"\n",
        "\n",
        "    :param download_dir:\n",
        "        Directory where the downloaded file is saved.\n",
        "        Example: \"data/CIFAR-10/\"\n",
        "\n",
        "    :return:\n",
        "        Nothing.\n",
        "    \"\"\"\n",
        "\n",
        "    # Filename for saving the file downloaded from the internet.\n",
        "    # Use the filename from the URL and add it to the download_dir.\n",
        "    filename = url.split('/')[-1]\n",
        "    file_path = os.path.join(download_dir, filename)\n",
        "\n",
        "    # Check if the file already exists.\n",
        "    # If it exists then we assume it has also been extracted,\n",
        "    # otherwise we need to download and extract it now.\n",
        "    if not os.path.exists(file_path):\n",
        "        # Check if the download directory exists, otherwise create it.\n",
        "        if not os.path.exists(download_dir):\n",
        "            os.makedirs(download_dir)\n",
        "\n",
        "        # Download the file from the internet.\n",
        "        file_path, _ = urllib.request.urlretrieve(url=url,\n",
        "                                                  filename=file_path,\n",
        "                                                  reporthook=_print_download_progress)\n",
        "\n",
        "        print()\n",
        "        print(\"Download finished. Extracting files.\")\n",
        "\n",
        "        if file_path.endswith(\".zip\"):\n",
        "            # Unpack the zip-file.\n",
        "            zipfile.ZipFile(file=file_path, mode=\"r\").extractall(download_dir)\n",
        "        elif file_path.endswith((\".tar.gz\", \".tgz\")):\n",
        "            # Unpack the tar-ball.\n",
        "            tarfile.open(name=file_path, mode=\"r:gz\").extractall(download_dir)\n",
        "\n",
        "        print(\"Done.\")\n",
        "    else:\n",
        "        print(\"Data has apparently already been downloaded and unpacked.\")\n",
        "\n",
        "\n",
        "########################################################################"
      ],
      "metadata": {
        "id": "m_qMKtKOZ4tL"
      },
      "execution_count": 4,
      "outputs": []
    },
    {
      "cell_type": "markdown",
      "metadata": {
        "id": "8VvWLf2mZVQV"
      },
      "source": [
        "# Downloading the CIFAR-10 dataset "
      ]
    },
    {
      "cell_type": "code",
      "execution_count": 5,
      "metadata": {
        "colab": {
          "base_uri": "https://localhost:8080/"
        },
        "id": "GYskIIcDZVQY",
        "outputId": "52727ace-83a0-45be-dc9a-55895ef5a584"
      },
      "outputs": [
        {
          "output_type": "stream",
          "name": "stdout",
          "text": [
            "- Download progress: 100.0%\n",
            "Download finished. Extracting files.\n",
            "Done.\n"
          ]
        }
      ],
      "source": [
        "url = \"https://www.cs.toronto.edu/~kriz/cifar-10-python.tar.gz\"\n",
        "download_dir = \"./data\"\n",
        "maybe_download_and_extract(url,download_dir)"
      ]
    },
    {
      "cell_type": "code",
      "source": [],
      "metadata": {
        "id": "_wO39QOx7yNp"
      },
      "execution_count": 7,
      "outputs": []
    },
    {
      "cell_type": "markdown",
      "metadata": {
        "id": "f0TJTYsNZVQa"
      },
      "source": [
        "# Loading raw files and reading them as training and testing datasets"
      ]
    },
    {
      "cell_type": "code",
      "execution_count": 13,
      "metadata": {
        "colab": {
          "base_uri": "https://localhost:8080/"
        },
        "id": "XZpyUF6jZVQb",
        "outputId": "6ffc1fb2-ba5e-41b4-8ac3-35901d4f79cc"
      },
      "outputs": [
        {
          "output_type": "stream",
          "name": "stdout",
          "text": [
            "Training data shape:  (50000, 32, 32, 3)\n",
            "Training labels shape:  (50000,)\n",
            "Test data shape:  (10000, 32, 32, 3)\n",
            "Test labels shape:  (10000,)\n"
          ]
        }
      ],
      "source": [
        "cifar10_dir = './data/cifar-10-batches-py'\n",
        "X_train, y_train, X_test, y_test = load_CIFAR10(cifar10_dir)\n",
        "\n",
        "# Checking the size of the training and testing data\n",
        "print('Training data shape: ', X_train.shape)\n",
        "print('Training labels shape: ', y_train.shape)\n",
        "print('Test data shape: ', X_test.shape)\n",
        "print('Test labels shape: ', y_test.shape)"
      ]
    },
    {
      "cell_type": "code",
      "source": [
        "print(X_test)"
      ],
      "metadata": {
        "id": "TPM1pkg5CB16",
        "outputId": "caaf664d-99a0-48a4-8c22-bd9de60ce6f0",
        "colab": {
          "base_uri": "https://localhost:8080/"
        }
      },
      "execution_count": 8,
      "outputs": [
        {
          "output_type": "stream",
          "name": "stdout",
          "text": [
            "[[[[158. 112.  49.]\n",
            "   [159. 111.  47.]\n",
            "   [165. 116.  51.]\n",
            "   ...\n",
            "   [137.  95.  36.]\n",
            "   [126.  91.  36.]\n",
            "   [116.  85.  33.]]\n",
            "\n",
            "  [[152. 112.  51.]\n",
            "   [151. 110.  40.]\n",
            "   [159. 114.  45.]\n",
            "   ...\n",
            "   [136.  95.  31.]\n",
            "   [125.  91.  32.]\n",
            "   [119.  88.  34.]]\n",
            "\n",
            "  [[151. 110.  47.]\n",
            "   [151. 109.  33.]\n",
            "   [158. 111.  36.]\n",
            "   ...\n",
            "   [139.  98.  34.]\n",
            "   [130.  95.  34.]\n",
            "   [120.  89.  33.]]\n",
            "\n",
            "  ...\n",
            "\n",
            "  [[ 68. 124. 177.]\n",
            "   [ 42. 100. 148.]\n",
            "   [ 31.  88. 137.]\n",
            "   ...\n",
            "   [ 38.  97. 146.]\n",
            "   [ 13.  64. 108.]\n",
            "   [ 40.  85. 127.]]\n",
            "\n",
            "  [[ 61. 116. 168.]\n",
            "   [ 49. 102. 148.]\n",
            "   [ 35.  85. 132.]\n",
            "   ...\n",
            "   [ 26.  82. 130.]\n",
            "   [ 29.  82. 126.]\n",
            "   [ 20.  64. 107.]]\n",
            "\n",
            "  [[ 54. 107. 160.]\n",
            "   [ 56. 105. 149.]\n",
            "   [ 45.  89. 132.]\n",
            "   ...\n",
            "   [ 24.  77. 124.]\n",
            "   [ 34.  84. 129.]\n",
            "   [ 21.  67. 110.]]]\n",
            "\n",
            "\n",
            " [[[235. 235. 235.]\n",
            "   [231. 231. 231.]\n",
            "   [232. 232. 232.]\n",
            "   ...\n",
            "   [233. 233. 233.]\n",
            "   [233. 233. 233.]\n",
            "   [232. 232. 232.]]\n",
            "\n",
            "  [[238. 238. 238.]\n",
            "   [235. 235. 235.]\n",
            "   [235. 235. 235.]\n",
            "   ...\n",
            "   [236. 236. 236.]\n",
            "   [236. 236. 236.]\n",
            "   [235. 235. 235.]]\n",
            "\n",
            "  [[237. 237. 237.]\n",
            "   [234. 234. 234.]\n",
            "   [234. 234. 234.]\n",
            "   ...\n",
            "   [235. 235. 235.]\n",
            "   [235. 235. 235.]\n",
            "   [234. 234. 234.]]\n",
            "\n",
            "  ...\n",
            "\n",
            "  [[ 87.  99.  89.]\n",
            "   [ 43.  51.  37.]\n",
            "   [ 19.  23.  11.]\n",
            "   ...\n",
            "   [169. 184. 179.]\n",
            "   [182. 197. 193.]\n",
            "   [188. 202. 201.]]\n",
            "\n",
            "  [[ 82.  96.  82.]\n",
            "   [ 46.  57.  36.]\n",
            "   [ 36.  44.  22.]\n",
            "   ...\n",
            "   [174. 189. 183.]\n",
            "   [185. 200. 196.]\n",
            "   [187. 202. 200.]]\n",
            "\n",
            "  [[ 85. 101.  83.]\n",
            "   [ 62.  75.  48.]\n",
            "   [ 58.  67.  38.]\n",
            "   ...\n",
            "   [168. 183. 178.]\n",
            "   [180. 195. 191.]\n",
            "   [186. 200. 199.]]]\n",
            "\n",
            "\n",
            " [[[158. 190. 222.]\n",
            "   [158. 187. 218.]\n",
            "   [139. 166. 194.]\n",
            "   ...\n",
            "   [228. 231. 234.]\n",
            "   [237. 239. 243.]\n",
            "   [238. 241. 246.]]\n",
            "\n",
            "  [[170. 200. 229.]\n",
            "   [172. 199. 226.]\n",
            "   [151. 176. 201.]\n",
            "   ...\n",
            "   [232. 232. 236.]\n",
            "   [246. 246. 250.]\n",
            "   [246. 247. 251.]]\n",
            "\n",
            "  [[174. 201. 225.]\n",
            "   [176. 200. 222.]\n",
            "   [157. 179. 199.]\n",
            "   ...\n",
            "   [230. 229. 232.]\n",
            "   [250. 249. 251.]\n",
            "   [245. 244. 247.]]\n",
            "\n",
            "  ...\n",
            "\n",
            "  [[ 31.  40.  45.]\n",
            "   [ 30.  39.  44.]\n",
            "   [ 26.  35.  40.]\n",
            "   ...\n",
            "   [ 37.  40.  46.]\n",
            "   [  9.  13.  14.]\n",
            "   [  4.   7.   5.]]\n",
            "\n",
            "  [[ 23.  34.  39.]\n",
            "   [ 27.  38.  43.]\n",
            "   [ 25.  36.  41.]\n",
            "   ...\n",
            "   [ 19.  20.  24.]\n",
            "   [  4.   6.   3.]\n",
            "   [  5.   7.   3.]]\n",
            "\n",
            "  [[ 28.  41.  47.]\n",
            "   [ 30.  43.  50.]\n",
            "   [ 32.  45.  52.]\n",
            "   ...\n",
            "   [  5.   6.   8.]\n",
            "   [  4.   5.   3.]\n",
            "   [  7.   8.   7.]]]\n",
            "\n",
            "\n",
            " ...\n",
            "\n",
            "\n",
            " [[[ 20.  15.  12.]\n",
            "   [ 19.  14.  11.]\n",
            "   [ 15.  14.  11.]\n",
            "   ...\n",
            "   [ 10.   9.   7.]\n",
            "   [ 12.  11.   9.]\n",
            "   [ 13.  12.  10.]]\n",
            "\n",
            "  [[ 21.  16.  13.]\n",
            "   [ 20.  16.  13.]\n",
            "   [ 18.  17.  12.]\n",
            "   ...\n",
            "   [ 10.   9.   7.]\n",
            "   [ 10.   9.   7.]\n",
            "   [ 12.  11.   9.]]\n",
            "\n",
            "  [[ 21.  16.  13.]\n",
            "   [ 21.  17.  12.]\n",
            "   [ 20.  18.  11.]\n",
            "   ...\n",
            "   [ 12.  11.   9.]\n",
            "   [ 12.  11.   9.]\n",
            "   [ 13.  12.  10.]]\n",
            "\n",
            "  ...\n",
            "\n",
            "  [[ 33.  25.  13.]\n",
            "   [ 34.  26.  15.]\n",
            "   [ 34.  26.  15.]\n",
            "   ...\n",
            "   [ 28.  25.  52.]\n",
            "   [ 29.  25.  58.]\n",
            "   [ 23.  20.  42.]]\n",
            "\n",
            "  [[ 33.  25.  14.]\n",
            "   [ 34.  26.  15.]\n",
            "   [ 34.  26.  15.]\n",
            "   ...\n",
            "   [ 27.  24.  52.]\n",
            "   [ 27.  24.  56.]\n",
            "   [ 25.  22.  47.]]\n",
            "\n",
            "  [[ 31.  23.  12.]\n",
            "   [ 32.  24.  13.]\n",
            "   [ 33.  25.  14.]\n",
            "   ...\n",
            "   [ 24.  23.  50.]\n",
            "   [ 26.  23.  53.]\n",
            "   [ 25.  20.  47.]]]\n",
            "\n",
            "\n",
            " [[[ 25.  40.  12.]\n",
            "   [ 15.  36.   3.]\n",
            "   [ 23.  41.  18.]\n",
            "   ...\n",
            "   [ 61.  82.  78.]\n",
            "   [ 92. 113. 112.]\n",
            "   [ 75.  89.  92.]]\n",
            "\n",
            "  [[ 12.  25.   6.]\n",
            "   [ 20.  37.   7.]\n",
            "   [ 24.  36.  15.]\n",
            "   ...\n",
            "   [115. 134. 138.]\n",
            "   [149. 168. 177.]\n",
            "   [104. 117. 131.]]\n",
            "\n",
            "  [[ 12.  25.  11.]\n",
            "   [ 15.  29.   6.]\n",
            "   [ 34.  40.  24.]\n",
            "   ...\n",
            "   [154. 172. 182.]\n",
            "   [157. 175. 192.]\n",
            "   [116. 129. 151.]]\n",
            "\n",
            "  ...\n",
            "\n",
            "  [[100. 129.  81.]\n",
            "   [103. 132.  84.]\n",
            "   [104. 134.  86.]\n",
            "   ...\n",
            "   [ 97. 128.  84.]\n",
            "   [ 98. 126.  84.]\n",
            "   [ 91. 121.  79.]]\n",
            "\n",
            "  [[103. 132.  83.]\n",
            "   [104. 131.  83.]\n",
            "   [107. 135.  87.]\n",
            "   ...\n",
            "   [101. 132.  87.]\n",
            "   [ 99. 127.  84.]\n",
            "   [ 92. 121.  79.]]\n",
            "\n",
            "  [[ 95. 126.  78.]\n",
            "   [ 95. 123.  76.]\n",
            "   [101. 128.  81.]\n",
            "   ...\n",
            "   [ 93. 124.  80.]\n",
            "   [ 95. 123.  81.]\n",
            "   [ 92. 120.  80.]]]\n",
            "\n",
            "\n",
            " [[[ 73.  78.  75.]\n",
            "   [ 98. 103. 113.]\n",
            "   [ 99. 106. 114.]\n",
            "   ...\n",
            "   [135. 150. 152.]\n",
            "   [135. 149. 154.]\n",
            "   [203. 215. 223.]]\n",
            "\n",
            "  [[ 69.  73.  70.]\n",
            "   [ 84.  89.  97.]\n",
            "   [ 68.  75.  81.]\n",
            "   ...\n",
            "   [ 85.  95.  89.]\n",
            "   [ 71.  82.  80.]\n",
            "   [120. 133. 135.]]\n",
            "\n",
            "  [[ 69.  73.  70.]\n",
            "   [ 90.  95. 100.]\n",
            "   [ 62.  71.  74.]\n",
            "   ...\n",
            "   [ 74.  81.  70.]\n",
            "   [ 53.  62.  54.]\n",
            "   [ 62.  74.  69.]]\n",
            "\n",
            "  ...\n",
            "\n",
            "  [[123. 128.  96.]\n",
            "   [132. 132. 102.]\n",
            "   [129. 128. 100.]\n",
            "   ...\n",
            "   [108. 107.  88.]\n",
            "   [ 62.  60.  55.]\n",
            "   [ 27.  27.  28.]]\n",
            "\n",
            "  [[115. 121.  91.]\n",
            "   [123. 124.  95.]\n",
            "   [129. 126.  99.]\n",
            "   ...\n",
            "   [115. 116.  94.]\n",
            "   [ 66.  65.  59.]\n",
            "   [ 27.  27.  27.]]\n",
            "\n",
            "  [[116. 120.  90.]\n",
            "   [121. 122.  94.]\n",
            "   [129. 128. 101.]\n",
            "   ...\n",
            "   [116. 115.  94.]\n",
            "   [ 68.  65.  58.]\n",
            "   [ 27.  26.  26.]]]]\n"
          ]
        }
      ]
    },
    {
      "cell_type": "markdown",
      "metadata": {
        "id": "GQCevUEmZVQc"
      },
      "source": [
        "# Visualizing dataset samples"
      ]
    },
    {
      "cell_type": "code",
      "execution_count": 14,
      "metadata": {
        "colab": {
          "base_uri": "https://localhost:8080/",
          "height": 264
        },
        "id": "P8m9pN3aZVQc",
        "outputId": "ccf9d018-173d-448d-9094-672d644c4560"
      },
      "outputs": [
        {
          "output_type": "display_data",
          "data": {
            "text/plain": [
              "<Figure size 432x288 with 49 Axes>"
            ],
            "image/png": "[encoded data removed]"
          },
          "metadata": {
            "needs_background": "light"
          }
        }
      ],
      "source": [
        "classes = ['plane', 'car', 'bird', 'deer', 'frog', 'horse', 'truck']\n",
        "num_classes = len(classes)\n",
        "samples_per_class = 7\n",
        "for y, cls in enumerate(classes):\n",
        "    idxs = np.flatnonzero(y_train == y)\n",
        "    idxs = np.random.choice(idxs, samples_per_class, replace=False)\n",
        "    for i, idx in enumerate(idxs):\n",
        "        plt_idx = i * num_classes + y + 1\n",
        "        plt.subplot(samples_per_class, num_classes, plt_idx)\n",
        "        plt.imshow(X_train[idx].astype('uint8'))\n",
        "        plt.axis('off')\n",
        "        if i == 0:\n",
        "            plt.title(cls)\n",
        "plt.show()"
      ]
    },
    {
      "cell_type": "markdown",
      "metadata": {
        "id": "lHgyIakJZVQd"
      },
      "source": [
        "# Data subsampling"
      ]
    },
    {
      "cell_type": "code",
      "execution_count": 15,
      "metadata": {
        "id": "ePUPaZncZVQe"
      },
      "outputs": [],
      "source": [
        "# Memory error prevention by subsampling data\n",
        "\n",
        "num_training = 35000\n",
        "mask = list(range(num_training))\n",
        "X_train = X_train[mask]\n",
        "y_train = y_train[mask]\n",
        "\n",
        "num_test = 7000\n",
        "mask = list(range(num_test))\n",
        "X_test = X_test[mask]\n",
        "y_test = y_test[mask]"
      ]
    },
    {
      "cell_type": "code",
      "execution_count": 16,
      "metadata": {
        "colab": {
          "base_uri": "https://localhost:8080/"
        },
        "id": "5tFbBT7yZVQf",
        "outputId": "91272d20-ccad-4b99-9842-bb38a9dddae7"
      },
      "outputs": [
        {
          "output_type": "stream",
          "name": "stdout",
          "text": [
            "(35000, 3072) (7000, 3072)\n"
          ]
        }
      ],
      "source": [
        "# reshaping data and placing into rows\n",
        "X_train = np.reshape(X_train, (X_train.shape[0], -1))\n",
        "X_test = np.reshape(X_test, (X_test.shape[0], -1))\n",
        "print(X_train.shape, X_test.shape)\n"
      ]
    },
    {
      "cell_type": "markdown",
      "metadata": {
        "id": "sP_G2SknZVQg"
      },
      "source": [
        "# Performing K-NN"
      ]
    },
    {
      "cell_type": "code",
      "execution_count": 28,
      "metadata": {
        "id": "ewrC1Q6wZVQg"
      },
      "outputs": [],
      "source": [
        "classifier = KNearestNeighbor()\n",
        "classifier.train(X_train, y_train)\n",
        "dists= classifier.compute_distances(X_test)\n",
        "y_test_pred = classifier.predict_labels(dists, k=5)\n",
        "num_correct = np.sum(y_test_pred == y_test)\n",
        "accuracy = float(num_correct) / num_test\n",
        "\n"
      ]
    },
    {
      "cell_type": "code",
      "source": [
        "from sklearn.metrics import f1_score, confusion_matrix, classification_report\n",
        "print('Got %d / %d correct => accuracy: %f' % (num_correct, num_test, accuracy))\n",
        "\n",
        "f1Score = f1_score(y_test, y_test_pred, average='micro')\n",
        "print(\"-----------------------------F1 score-------------------------------------\")\n",
        "print(f1Score)\n",
        "\n",
        "\n",
        "from sklearn.metrics import confusion_matrix\n",
        "\n",
        "x = confusion_matrix (y_test,y_test_pred)\n",
        "# print(x)"
      ],
      "metadata": {
        "id": "dFgul9xzDa8X",
        "outputId": "eaf36b9e-cf06-4f10-958a-aa4c8ff74bd0",
        "colab": {
          "base_uri": "https://localhost:8080/"
        }
      },
      "execution_count": 29,
      "outputs": [
        {
          "output_type": "stream",
          "name": "stdout",
          "text": [
            "Got 2294 / 7000 correct => accuracy: 0.327714\n",
            "-----------------------------F1 score-------------------------------------\n",
            "0.32771428571428574\n"
          ]
        }
      ]
    },
    {
      "cell_type": "markdown",
      "metadata": {
        "id": "ZsRVpL--ZVQg"
      },
      "source": [
        "# Cross validation"
      ]
    },
    {
      "cell_type": "markdown",
      "metadata": {
        "id": "QqapRofVZVQh"
      },
      "source": [
        "performing 5-fold cross validation on k-NN for varying values of k "
      ]
    },
    {
      "cell_type": "code",
      "execution_count": 30,
      "metadata": {
        "colab": {
          "base_uri": "https://localhost:8080/"
        },
        "id": "NrIANqayZVQh",
        "outputId": "69600ce9-a7c6-4a8c-976e-3c02c0a33ab2"
      },
      "outputs": [
        {
          "output_type": "stream",
          "name": "stdout",
          "text": [
            "Printing our 5-fold accuracies for varying values of k:\n",
            "\n",
            "k = 1, accuracy = 0.251714\n",
            "k = 1, accuracy = 0.259714\n",
            "k = 1, accuracy = 0.247143\n",
            "k = 1, accuracy = 0.249714\n",
            "k = 1, accuracy = 0.249143\n",
            "k = 3, accuracy = 0.246714\n",
            "k = 3, accuracy = 0.244143\n",
            "k = 3, accuracy = 0.239286\n",
            "k = 3, accuracy = 0.244429\n",
            "k = 3, accuracy = 0.244714\n",
            "k = 5, accuracy = 0.249286\n",
            "k = 5, accuracy = 0.247143\n",
            "k = 5, accuracy = 0.246000\n",
            "k = 5, accuracy = 0.247000\n",
            "k = 5, accuracy = 0.250143\n",
            "k = 8, accuracy = 0.255714\n",
            "k = 8, accuracy = 0.240714\n",
            "k = 8, accuracy = 0.247143\n",
            "k = 8, accuracy = 0.247143\n",
            "k = 8, accuracy = 0.248857\n",
            "k = 10, accuracy = 0.246286\n",
            "k = 10, accuracy = 0.242714\n",
            "k = 10, accuracy = 0.246714\n",
            "k = 10, accuracy = 0.245857\n",
            "k = 10, accuracy = 0.250429\n",
            "k = 12, accuracy = 0.250000\n",
            "k = 12, accuracy = 0.242857\n",
            "k = 12, accuracy = 0.246000\n",
            "k = 12, accuracy = 0.249714\n",
            "k = 12, accuracy = 0.251714\n",
            "k = 15, accuracy = 0.246286\n",
            "k = 15, accuracy = 0.241286\n",
            "k = 15, accuracy = 0.247857\n",
            "k = 15, accuracy = 0.242857\n",
            "k = 15, accuracy = 0.250571\n",
            "k = 20, accuracy = 0.247857\n",
            "k = 20, accuracy = 0.240286\n",
            "k = 20, accuracy = 0.239857\n",
            "k = 20, accuracy = 0.239571\n",
            "k = 20, accuracy = 0.250143\n",
            "k = 50, accuracy = 0.239143\n",
            "k = 50, accuracy = 0.232429\n",
            "k = 50, accuracy = 0.235429\n",
            "k = 50, accuracy = 0.233286\n",
            "k = 50, accuracy = 0.236429\n",
            "k = 100, accuracy = 0.225857\n",
            "k = 100, accuracy = 0.219000\n",
            "k = 100, accuracy = 0.227000\n",
            "k = 100, accuracy = 0.223571\n",
            "k = 100, accuracy = 0.229714\n"
          ]
        }
      ],
      "source": [
        "num_folds = 5\n",
        "k_choices = [1, 3, 5, 8, 10, 12, 15, 20, 50, 100]\n",
        "\n",
        "X_train_folds = []\n",
        "y_train_folds = []\n",
        "\n",
        "X_train_folds = np.array_split(X_train,num_folds)\n",
        "y_train_folds = np.array_split(y_train,num_folds)\n",
        "k_to_accuracies = {}\n",
        "\n",
        "\n",
        "\n",
        "for k in k_choices:\n",
        "    k_to_accuracies[k] = []\n",
        "    for num_knn in range(0,num_folds):\n",
        "        X_test = X_train_folds[num_knn]\n",
        "        y_test = y_train_folds[num_knn]\n",
        "        X_train = X_train_folds\n",
        "        y_train = y_train_folds\n",
        "        \n",
        "        temp = np.delete(X_train,num_knn,0)\n",
        "        X_train = np.concatenate((temp),axis = 0)\n",
        "        y_train = np.delete(y_train,num_knn,0)\n",
        "        y_train = np.concatenate((y_train),axis = 0)\n",
        "        \n",
        "        classifier = KNearestNeighbor()\n",
        "        classifier.train(X_train, y_train)\n",
        "        dists = classifier.compute_distances(X_test)\n",
        "        y_test_pred = classifier.predict_labels(dists, k)\n",
        "\n",
        "        num_correct = np.sum(y_test_pred == y_test)\n",
        "        accuracy = float(num_correct) / num_test\n",
        "#         print('Got %d / %d correct => accuracy: %f' % (num_correct, num_test, accuracy))\n",
        "        k_to_accuracies[k].append(accuracy)\n",
        "\n",
        "\n",
        "print(\"Printing our 5-fold accuracies for varying values of k:\")\n",
        "print()\n",
        "for k in sorted(k_to_accuracies):\n",
        "    for accuracy in k_to_accuracies[k]:\n",
        "        print('k = %d, accuracy = %f' % (k, accuracy))"
      ]
    },
    {
      "cell_type": "code",
      "execution_count": 31,
      "metadata": {
        "colab": {
          "base_uri": "https://localhost:8080/",
          "height": 295
        },
        "id": "mtQJrLlhZVQi",
        "outputId": "74067086-546f-4ef4-dd9a-f04d7764dc85"
      },
      "outputs": [
        {
          "output_type": "display_data",
          "data": {
            "text/plain": [
              "<Figure size 432x288 with 1 Axes>"
            ],
            "image/png": "[encoded data removed]"
          },
          "metadata": {
            "needs_background": "light"
          }
        }
      ],
      "source": [
        "for k in k_choices:\n",
        "    accuracies = k_to_accuracies[k]\n",
        "    plt.scatter([k] * len(accuracies), accuracies)\n",
        "\n",
        "# plot the trend line with error bars that correspond to standard deviation\n",
        "\n",
        "accuracies_mean = np.array([np.mean(v) for k,v in sorted(k_to_accuracies.items())])\n",
        "accuracies_std = np.array([np.std(v) for k,v in sorted(k_to_accuracies.items())])\n",
        "plt.errorbar(k_choices, accuracies_mean, yerr=accuracies_std)\n",
        "plt.title('Cross-validation on k')\n",
        "plt.xlabel('k')\n",
        "plt.ylabel('Cross-validation accuracy')\n",
        "plt.show()"
      ]
    },
    {
      "cell_type": "code",
      "execution_count": 32,
      "metadata": {
        "colab": {
          "base_uri": "https://localhost:8080/"
        },
        "id": "Rg1D16bIZVQj",
        "outputId": "d1fa17a1-3eb2-4aaf-c7d5-17da9d9eae89"
      },
      "outputs": [
        {
          "output_type": "stream",
          "name": "stdout",
          "text": [
            "Got 1753 / 7000 correct => accuracy: 0.250429\n",
            "-----------------------------F1 score-------------------------------------\n",
            "0.3130357142857143\n"
          ]
        }
      ],
      "source": [
        "# Choosing best value of k based on cross-validation results\n",
        "\n",
        "best_k = 10\n",
        "\n",
        "classifier = KNearestNeighbor()\n",
        "classifier.train(X_train, y_train)\n",
        "y_test_pred = classifier.predict(X_test, k=best_k)\n",
        "\n",
        "# Computing and displaying the accuracy for best k found during cross-validation\n",
        "num_correct = np.sum(y_test_pred == y_test)\n",
        "accuracy = float(num_correct) / num_test\n",
        "print('Got %d / %d correct => accuracy: %f' % (num_correct, num_test, accuracy))\n",
        "\n",
        "from sklearn.metrics import f1_score, confusion_matrix, classification_report\n",
        "\n",
        "f1Score = f1_score(y_test, y_test_pred, average='micro')\n",
        "print(\"-----------------------------F1 score-------------------------------------\")\n",
        "print(f1Score)"
      ]
    },
    {
      "cell_type": "code",
      "execution_count": null,
      "metadata": {
        "id": "lKoBnlY0ZVQj"
      },
      "outputs": [],
      "source": [
        "from sklearn.metrics import confusion_matrix\n",
        "\n",
        "x = confusion_matrix (y_test,y_test_pred)\n",
        "print(x)"
      ]
    }
  ],
  "metadata": {
    "kernelspec": {
      "display_name": "Python 3",
      "language": "python",
      "name": "python3"
    },
    "language_info": {
      "codemirror_mode": {
        "name": "ipython",
        "version": 3
      },
      "file_extension": ".py",
      "mimetype": "text/x-python",
      "name": "python",
      "nbconvert_exporter": "python",
      "pygments_lexer": "ipython3",
      "version": "3.6.5"
    },
    "colab": {
      "provenance": [],
      "include_colab_link": true
    },
    "accelerator": "GPU",
    "gpuClass": "standard"
  },
  "nbformat": 4,
  "nbformat_minor": 0
}